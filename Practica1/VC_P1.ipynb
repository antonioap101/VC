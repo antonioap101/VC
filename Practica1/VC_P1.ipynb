{
 "cells": [
  {
   "cell_type": "markdown",
   "metadata": {},
   "source": [
    "Paquetes necesarios"
   ]
  },
  {
   "cell_type": "code",
   "execution_count": 4,
   "metadata": {},
   "outputs": [],
   "source": [
    "import cv2  \n",
    "import numpy as np\n",
    "import matplotlib.pyplot as plt"
   ]
  },
  {
   "cell_type": "markdown",
   "metadata": {},
   "source": [
    "Inicializaciones"
   ]
  },
  {
   "cell_type": "code",
   "execution_count": 5,
   "metadata": {},
   "outputs": [],
   "source": [
    "#Dimensiones de la imagen a crear\n",
    "ancho = 200\n",
    "alto = 200"
   ]
  },
  {
   "cell_type": "markdown",
   "metadata": {},
   "source": [
    "Imagen en grises"
   ]
  },
  {
   "cell_type": "code",
   "execution_count": 6,
   "metadata": {},
   "outputs": [
    {
     "name": "stdout",
     "output_type": "stream",
     "text": [
      "(200, 200, 1)\n"
     ]
    }
   ],
   "source": [
    "#Crea una imagen de un único plano, que se interpreta como nivel de gris (0 negro, 255 blanco)\n",
    "gris_img = np.zeros((ancho,alto,1), dtype = np.uint8)\n",
    "#Muestra dimensiones de la imagen creada\n",
    "print(gris_img.shape)"
   ]
  },
  {
   "cell_type": "markdown",
   "metadata": {},
   "source": [
    "Muestra imagen con imshow (OpenCV) en ventana independiente"
   ]
  },
  {
   "cell_type": "code",
   "execution_count": 7,
   "metadata": {},
   "outputs": [],
   "source": [
    "#Muestra la imagen (negra al inicializarse a 0) con las utilidades de OpenCV en una ventana independiente\n",
    "cv2.imshow('Imagen', gris_img)\n",
    "cv2.waitKey(0) # Se detiene hasta pulsar tecla (>0 milisegundos)\n",
    "cv2.destroyAllWindows() # Destruye todas las ventanas"
   ]
  },
  {
   "cell_type": "markdown",
   "metadata": {},
   "source": [
    "Muestra imagen con matplotlib"
   ]
  },
  {
   "cell_type": "code",
   "execution_count": null,
   "metadata": {},
   "outputs": [],
   "source": [
    "#Muestra la imagen con matplotlib, aparece integrada en el cuaderno\n",
    "#Es necesario especificar que el mapa de color usado es de grises\n",
    "plt.imshow(gris_img, cmap='gray')\n",
    "plt.show()\n",
    "\n",
    "#replicar una imagen de gris creando una imagen gris pero con tres planos (RGB)\n",
    "#img2 = cv2.merge((gris_img,gris_img,gris_img))"
   ]
  },
  {
   "cell_type": "code",
   "execution_count": null,
   "metadata": {},
   "outputs": [],
   "source": [
    "#Modifica un par de zonas rectangulares de la imagen\n",
    "gris_img[0:20,0:20,0] = 255 #Especifica el canal 0\n",
    "gris_img[50:70,40:60] = 255 #realmente no es necesario con un único plano\n",
    "\n",
    "#Muestra la imagen con matplotlib\n",
    "#Es necesario especificar que el mapa de color usado es de grises\n",
    "plt.imshow(gris_img, cmap='gray')\n",
    "plt.show()"
   ]
  },
  {
   "cell_type": "markdown",
   "metadata": {},
   "source": [
    "Imagen con tono de gris aleatorio"
   ]
  },
  {
   "cell_type": "code",
   "execution_count": null,
   "metadata": {},
   "outputs": [],
   "source": [
    "#Crea imagen con un único plano (gris)\n",
    "gris_img = np.random.randint(255, size=(ancho,alto, 1))\n",
    "#Muestra dimensiones\n",
    "print(gris_img.shape)\n",
    "#Visualiza\n",
    "plt.imshow(gris_img, cmap='gray') #Visualiza con mapa de color gris\n",
    "plt.show()"
   ]
  },
  {
   "cell_type": "markdown",
   "metadata": {},
   "source": [
    "Asignamos valor a los píxeles de una zona concreta"
   ]
  },
  {
   "cell_type": "code",
   "execution_count": null,
   "metadata": {},
   "outputs": [],
   "source": [
    "#Modifica la primera mitad de la imagen, asignando 255, es decir blanco\n",
    "gris_img[0:int(alto/2),:,:] = 255\n",
    "#Visualiza con mapa de color gris\n",
    "plt.imshow(gris_img, cmap='gray') #Te animo a probar a eliminar la especificación del mapa de color\n",
    "plt.show()"
   ]
  },
  {
   "cell_type": "markdown",
   "metadata": {},
   "source": [
    "TAREA: Crea una imagen, p.e. 800x800, con la textura del tablero de ajedrez"
   ]
  },
  {
   "cell_type": "code",
   "execution_count": null,
   "metadata": {},
   "outputs": [],
   "source": [
    "#Creaa una imagen con tres planos\n",
    "tablero_ajedrez = np.zeros((800,800,1), dtype = np.uint8)\n",
    "#Dimensiones\n",
    " \n",
    "for i in range(0, 800, 100):\n",
    "    for j in range(0, 800, 100):\n",
    "        if (i % 200 == 0 and j % 200 == 0) or (i % 200 != 0 and j % 200 != 0):\n",
    "            tablero_ajedrez[i:i+100, j:j+100, 0] = 255\n",
    "\n",
    "        \n",
    "    #gris_img[0:20,0:20,0] = 255 #Especifica el canal 0\n",
    "print(tablero_ajedrez.shape)\n",
    "#Visualiza sin especificar el mapa de color gris\n",
    "plt.imshow(tablero_ajedrez, cmap='gray') \n",
    "plt.show()"
   ]
  },
  {
   "cell_type": "markdown",
   "metadata": {},
   "source": [
    "Imagen en color"
   ]
  },
  {
   "cell_type": "code",
   "execution_count": null,
   "metadata": {},
   "outputs": [],
   "source": [
    "#Crea una imagen con tres planos\n",
    "color_img = np.zeros((200,200,3), dtype = np.uint8)\n",
    "#Dimensiones\n",
    "print(color_img.shape)\n",
    "#Visualiza sin especificar el mapa de color gris\n",
    "plt.imshow(color_img) \n",
    "plt.show()\n"
   ]
  },
  {
   "cell_type": "code",
   "execution_count": null,
   "metadata": {},
   "outputs": [],
   "source": [
    "#Modifica el primer plano de color (Rojo, ya que es RGB)\n",
    "color_img[:,:,0] = 255 \n",
    "#color_img[:,:,1] = 200 #Prueba otras combinaciones\n",
    "#color_img[:,:,2] = 255 \n",
    "plt.imshow(color_img) \n",
    "plt.show()"
   ]
  },
  {
   "cell_type": "markdown",
   "metadata": {},
   "source": [
    "TAREA: Crear una imagen estilo Mondrian (un ejemplo https://www3.gobiernodecanarias.org/medusa/ecoescuela/sa/2017/04/17/descubriendo-a-mondrian/ )"
   ]
  },
  {
   "cell_type": "markdown",
   "metadata": {},
   "source": [
    "Funciones de dibujo.\n",
    "OpenCV dispone de distintas funciones específicas para dibujar formas básicas (más información https://docs.opencv.org/4.x/dc/da5/tutorial_py_drawing_functions.html )"
   ]
  },
  {
   "cell_type": "code",
   "execution_count": null,
   "metadata": {},
   "outputs": [],
   "source": [
    "import random \n",
    "\n",
    "# Creamos una imagen con tres planos (fondo blanco)\n",
    "mondrian_image = np.ones((1200, 1200, 3), dtype=np.uint8) * 255\n",
    "\n",
    "# Definimos colores en formato RGB\n",
    "colores = [\n",
    "#    R, G, B\n",
    "    (0, 0, 0),       # NEGRO\n",
    "    (255, 255, 255), # BLANCO\n",
    "    (210, 0, 28),    # ROJO\n",
    "    (0, 35, 210),    # AZUL\n",
    "    (0, 230, 255),   # AMARILLO\n",
    "]\n",
    "\n",
    "__NEGRO__, __BLANCO__, __ROJO__,__AZUL__, __AMARILLO__ = colores\n",
    "\n",
    "# Establecemos una serie de puntos para los rectángulos de la imagen\n",
    "x_coords = [0, 100, 250, 400, 600, 700, 850, 1050, 1200]\n",
    "y_coords = [0, 100, 300, 450, 650, 800, 950, 1100, 1200]\n",
    "\n",
    "# x_coords = [0] + [random.randint(100, 1100) for _ in range(10) ] + [1200]\n",
    "# y_coords = [0] + [random.randint(100, 1100) for _ in range(10) ] + [1200]\n",
    "\n",
    "\n",
    "# Usamos bucles anidados para crear una cuadrícula de rectángulos\n",
    "for i in range(len(x_coords) - 1):\n",
    "    for j in range(len(y_coords) - 1):\n",
    "        x1, y1 = x_coords[i], y_coords[j]\n",
    "        x2, y2 = x_coords[i+1], y_coords[j+1]\n",
    "        \n",
    "        # Elegimos un color de fondo aleatorio de la lista de colores\n",
    "        color_fondo = random.choice(colores[1:])  # Excluyendo el negro\n",
    "        \n",
    "        # Rectángulo de fondo\n",
    "        cv2.rectangle(mondrian_image, (x1, y1), (x2, y2), color_fondo, -1)  \n",
    "        \n",
    "        \n",
    "        # Borde del rectángulo, de color negro\n",
    "        cv2.rectangle(mondrian_image, (x1, y1), (x2, y2), __NEGRO__, 10)  \n",
    "\n",
    "\n",
    "# Mostramos la imagen\n",
    "plt.imshow(cv2.cvtColor(mondrian_image, cv2.COLOR_RGB2BGR))\n",
    "plt.title('Imagen Estilo Mondrian')\n",
    "plt.show()\n"
   ]
  },
  {
   "cell_type": "code",
   "execution_count": null,
   "metadata": {},
   "outputs": [],
   "source": [
    "#Crea una imagen con tres planos\n",
    "color_img = np.zeros((200,200,3), dtype = np.uint8)\n",
    "\n",
    "#Línea roja vertical de grosor 3\n",
    "cv2.line(color_img,(int(ancho/2),0),(int(ancho/2),alto),(255,0,0),3)\n",
    "#Rectángulo con grosor 2\n",
    "cv2.rectangle(color_img,(10,10),(ancho-10,int(alto/2)),(0,255,0),2)\n",
    "#Rectángulo relleno\n",
    "cv2.rectangle(color_img,(20,20),(60,40),(0,255,0),-1)\n",
    "#Círculo de radio 15 relleno\n",
    "cv2.circle(color_img,(ancho-60,30), 15, (0,0,255), -1)\n",
    "#Visualiza sin especificar el mapa de color gris\n",
    "plt.imshow(color_img) \n",
    "plt.show()\n",
    "\n",
    "\n",
    "#Salva la imagen resultante a disco\n",
    "cv2.imwrite('imagen.jpg', color_img)"
   ]
  },
  {
   "cell_type": "markdown",
   "metadata": {},
   "source": [
    "TAREA: Resuelve una de las tareas previas (a elegir) con las funciones de dibujo de OpenCV  :)"
   ]
  },
  {
   "cell_type": "markdown",
   "metadata": {},
   "source": [
    "Abrir imagen almacenada en disco"
   ]
  },
  {
   "cell_type": "code",
   "execution_count": null,
   "metadata": {},
   "outputs": [],
   "source": [
    "#Carga imagen desde disco\n",
    "img = cv2.imread('logo_ulpgc_vertical_acronimo_mancheta_azul.png') \n",
    "#Dimensiones\n",
    "print(img.shape)\n",
    "#Muestra\n",
    "plt.imshow(img) \n",
    "plt.show()\n",
    "\n",
    "#OpenCV lee las imágenes de disco en formato BGR, por lo que convertimos para visualizr RGB\n",
    "img_rgb = cv2.cvtColor(img, cv2.COLOR_BGR2RGB)\n",
    "plt.imshow(img_rgb) \n",
    "plt.show()\n",
    "\n",
    "#Fuerza lectura en grises\n",
    "img = cv2.imread('logo_ulpgc_vertical_acronimo_mancheta_azul.png', cv2.IMREAD_GRAYSCALE) \n",
    "plt.imshow(img, cmap='gray') \n",
    "plt.show()\n"
   ]
  },
  {
   "cell_type": "markdown",
   "metadata": {},
   "source": [
    "Abre un archivo de vídeo"
   ]
  },
  {
   "cell_type": "code",
   "execution_count": null,
   "metadata": {},
   "outputs": [],
   "source": [
    "vid = cv2.VideoCapture('Ayagaures_vibe_result.mp4') #Busca n vídeo propio\n",
    "  \n",
    "while(True):      \n",
    "    # fotograma a fotograma\n",
    "    ret, frame = vid.read()\n",
    "\n",
    "    if ret:  \n",
    "        # Muestra fotograma27\n",
    "        cv2.imshow('Vid', frame)\n",
    "    \n",
    "    # Detenemos pulsado ESC\n",
    "    if cv2.waitKey(20) == 27:\n",
    "        break\n",
    "  \n",
    "# Libera el objeto de captura\n",
    "vid.release()\n",
    "# Destruye ventanas\n",
    "cv2.destroyAllWindows()"
   ]
  },
  {
   "cell_type": "markdown",
   "metadata": {},
   "source": [
    "Muestra entrada de la cámara"
   ]
  },
  {
   "cell_type": "code",
   "execution_count": null,
   "metadata": {},
   "outputs": [],
   "source": [
    "vid = cv2.VideoCapture(0)\n",
    "  \n",
    "while(True):      \n",
    "    # fotograma a fotograma\n",
    "    ret, frame = vid.read()\n",
    "  \n",
    "    if ret:  \n",
    "        # Muestra fotograma\n",
    "        cv2.imshow('Vid', frame)\n",
    "    \n",
    "    # Detenemos pulsado ESC\n",
    "    if cv2.waitKey(20) == 27:\n",
    "        break\n",
    "  \n",
    "# Libera el objeto de captura\n",
    "vid.release()\n",
    "# Destruye ventanas\n",
    "cv2.destroyAllWindows()"
   ]
  },
  {
   "cell_type": "markdown",
   "metadata": {},
   "source": [
    "Separa los tres planos de la imagen captada por la webcam"
   ]
  },
  {
   "cell_type": "code",
   "execution_count": null,
   "metadata": {},
   "outputs": [],
   "source": [
    "import cv2  \n",
    "import numpy as np\n",
    "import matplotlib.pyplot as plt\n",
    "\n",
    "vid = cv2.VideoCapture(0)\n",
    "  \n",
    "while(True):      \n",
    "    # fotograma a fotograma\n",
    "    ret, frame = vid.read()\n",
    "\n",
    "    if ret:\n",
    "        #Separamos canales\n",
    "        b = frame[:,:,0]\n",
    "        g = frame[:,:,1]\n",
    "        r = frame[:,:,2]\n",
    "        #Dimensiones\n",
    "        h, w, c = frame.shape\n",
    "\n",
    "        #Concateamos en horizontal los tres planos del fotograma\n",
    "        collage = np.hstack((r, g, b))\n",
    "    \n",
    "        # Muestra fotograma redimensionando a la mitad para que quepa en pantalla\n",
    "        cv2.imshow('Cam3', cv2.resize(collage, (int(w*1.5),int(h/2)),cv2.INTER_NEAREST))\n",
    "    \n",
    "    # Detenemos pulsado ESC\n",
    "    if cv2.waitKey(20) == 27:\n",
    "        break\n",
    "  \n",
    "# Libera el objeto de captura\n",
    "vid.release()\n",
    "# Destruye ventanas\n",
    "cv2.destroyAllWindows()"
   ]
  },
  {
   "cell_type": "markdown",
   "metadata": {},
   "source": [
    "TAREA: Modifica de alguna forma los valores de un plano de la imagen"
   ]
  },
  {
   "cell_type": "code",
   "execution_count": null,
   "metadata": {},
   "outputs": [],
   "source": [
    "##################### TAREA #####################\n",
    "import cv2  \n",
    "import numpy as np\n",
    "import matplotlib.pyplot as plt\n",
    "\n",
    "vid = cv2.VideoCapture(0)\n",
    "  \n",
    "count = 0\n",
    "while(True):      \n",
    "    # fotograma a fotograma\n",
    "    ret, frame = vid.read()\n",
    "\n",
    "    if ret:\n",
    "        #Separamos canales\n",
    "        b = frame[:,:,0]\n",
    "        g = frame[:,:,1]\n",
    "        r = frame[:,:,2]\n",
    "        #Dimensiones\n",
    "        h, w, c = frame.shape\n",
    "       \n",
    "     \n",
    "        # Modificacion de los valores de un plano\n",
    "        # r = r + 50\n",
    "        # r[r > 255] = 255  # Asegura que los valores están en el rango válido\n",
    "        g = 255 - g # Invierte plano VERDE\n",
    "        b = b * 0.5\n",
    "        b = np.round(b).astype(np.uint8)\n",
    "        \n",
    "        if (count < 1):\n",
    "            print(b, end=\"\\n\\n\")\n",
    "            count += 1\n",
    "\n",
    "        #Concateamos en horizontal los tres planos del fotograma\n",
    "        collage = np.hstack((r, g, b))\n",
    "    \n",
    "        # Muestra fotograma redimensionando a la mitad para que quepa en pantalla\n",
    "        cv2.imshow('Cam3', cv2.resize(collage, (int(w*1.5),int(h/2)),cv2.INTER_NEAREST))\n",
    "    \n",
    "    # Detenemos pulsado ESC\n",
    "    if cv2.waitKey(20) == 27:\n",
    "        break\n",
    "  \n",
    "# Libera el objeto de captura\n",
    "vid.release()\n",
    "# Destruye ventanas\n",
    "cv2.destroyAllWindows()"
   ]
  },
  {
   "cell_type": "markdown",
   "metadata": {},
   "source": [
    "Evento de ratón para mostrar el valor RGB del píxel"
   ]
  },
  {
   "cell_type": "code",
   "execution_count": null,
   "metadata": {},
   "outputs": [],
   "source": [
    "# Función que trata eventos de ratón \n",
    "def mouse_events(event, x, y, flags, params):\n",
    "    global px, py, R, G, B\n",
    "    px = -1\n",
    "    # Movimiento del puntero     \n",
    "    if event==cv2.EVENT_MOUSEMOVE:\n",
    "        #Valores del píxel\n",
    "        B = frame[y, x, 0]\n",
    "        G = frame[y, x, 1]\n",
    "        R = frame[y, x, 2]  \n",
    "\n",
    "        px = x\n",
    "        py = y\n",
    "\n",
    "     \n",
    "  "
   ]
  },
  {
   "cell_type": "code",
   "execution_count": null,
   "metadata": {},
   "outputs": [],
   "source": [
    "vid = cv2.VideoCapture(0)\n",
    "\n",
    "# Tipografía para mostrar texto\n",
    "font = cv2.FONT_HERSHEY_SIMPLEX\n",
    "  \n",
    "lanzado = 0\n",
    "px = -1\n",
    "while(True):      \n",
    "    # fotograma a fotograma\n",
    "    ret, frame = vid.read()\n",
    "\n",
    "    if ret: \n",
    "        # Activa em manejador en el primer fotograma\n",
    "        if lanzado == 0:\n",
    "            # Muestra fotograma\n",
    "            cv2.imshow('Cam', frame)   \n",
    "            # Define el nombre del manejador del evento\n",
    "            cv2.setMouseCallback('Cam', mouse_events)\n",
    "            lanzado = 1\n",
    "            \n",
    "        # Muestra valores RGB intentando centrar en el puntero\n",
    "        if px > -1:\n",
    "            cv2.putText(frame, '{}'.format(R), (px-45,py-5), font, 0.5, (0, 0, 255), 1)\n",
    "            cv2.putText(frame, '     {}'.format(G), (px-54,py-5), font, 0.5, (0, 255, 0), 1)\n",
    "            cv2.putText(frame, '         {}'.format(B), (px-54,py-5), font, 0.5, (255, 0, 0), 1)\n",
    "            \n",
    "        cv2.imshow('Cam', frame)   \n",
    "        \n",
    "    # Detenemos pulsado ESC\n",
    "    if cv2.waitKey(20) == 27:\n",
    "        break\n",
    "  \n",
    "# Libera el objeto de captura\n",
    "vid.release()\n",
    "# Destruye ventanas\n",
    "cv2.destroyAllWindows()"
   ]
  },
  {
   "cell_type": "markdown",
   "metadata": {},
   "source": [
    "TAREA:\n",
    "Pintar círculos en las posiciones del píxel más claro y oscuro de la imagen \n",
    "¿Si quisieras hacerlo sobre la zona 8x8 más clara/oscura?"
   ]
  },
  {
   "cell_type": "markdown",
   "metadata": {},
   "source": [
    "Pop art\n",
    "Salida de la webcam \"inspirada\" en Andy Warhol"
   ]
  },
  {
   "cell_type": "code",
   "execution_count": 8,
   "metadata": {},
   "outputs": [
    {
     "ename": "ValueError",
     "evalue": "could not broadcast input array from shape (360,640) into shape (240,320)",
     "output_type": "error",
     "traceback": [
      "\u001b[1;31m---------------------------------------------------------------------------\u001b[0m",
      "\u001b[1;31mValueError\u001b[0m                                Traceback (most recent call last)",
      "\u001b[1;32md:\\ULPGC\\3er Curso\\1er Semestre\\VC\\Practicas\\Practica1\\VC_P1.ipynb Cell 41\u001b[0m line \u001b[0;36m3\n\u001b[0;32m     <a href='vscode-notebook-cell:/d%3A/ULPGC/3er%20Curso/1er%20Semestre/VC/Practicas/Practica1/VC_P1.ipynb#X55sZmlsZQ%3D%3D?line=31'>32</a>\u001b[0m b \u001b[39m=\u001b[39m frame[:,:,\u001b[39m0\u001b[39m]\n\u001b[0;32m     <a href='vscode-notebook-cell:/d%3A/ULPGC/3er%20Curso/1er%20Semestre/VC/Practicas/Practica1/VC_P1.ipynb#X55sZmlsZQ%3D%3D?line=33'>34</a>\u001b[0m \u001b[39m#Jugamos\u001b[39;00m\n\u001b[1;32m---> <a href='vscode-notebook-cell:/d%3A/ULPGC/3er%20Curso/1er%20Semestre/VC/Practicas/Practica1/VC_P1.ipynb#X55sZmlsZQ%3D%3D?line=34'>35</a>\u001b[0m tl[:,:,\u001b[39m0\u001b[39;49m] \u001b[39m=\u001b[39m b\n\u001b[0;32m     <a href='vscode-notebook-cell:/d%3A/ULPGC/3er%20Curso/1er%20Semestre/VC/Practicas/Practica1/VC_P1.ipynb#X55sZmlsZQ%3D%3D?line=35'>36</a>\u001b[0m tl[:,:,\u001b[39m1\u001b[39m] \u001b[39m=\u001b[39m g\n\u001b[0;32m     <a href='vscode-notebook-cell:/d%3A/ULPGC/3er%20Curso/1er%20Semestre/VC/Practicas/Practica1/VC_P1.ipynb#X55sZmlsZQ%3D%3D?line=36'>37</a>\u001b[0m tl[:,:,\u001b[39m2\u001b[39m] \u001b[39m=\u001b[39m r\n",
      "\u001b[1;31mValueError\u001b[0m: could not broadcast input array from shape (360,640) into shape (240,320)"
     ]
    }
   ],
   "source": [
    "import cv2  \n",
    "import numpy as np\n",
    "import matplotlib.pyplot as plt\n",
    "\n",
    "vid = cv2.VideoCapture(0)\n",
    "\n",
    "#Dimensiones de la cámara\n",
    "w = int(vid.get(cv2.CAP_PROP_FRAME_WIDTH))\n",
    "h = int(vid.get(cv2.CAP_PROP_FRAME_HEIGHT))\n",
    "\n",
    "#Fuerzo a mitad de resolución para ocupar menos pantalla\n",
    "w=int(w/2)\n",
    "h=int(h/2)\n",
    "vid.set(cv2.CAP_PROP_FRAME_WIDTH, w) #En Mac no reacciona a estos comandos\n",
    "vid.set(cv2.CAP_PROP_FRAME_HEIGHT, h)\n",
    "\n",
    "#Imagen conjunta 2x original\n",
    "collage = np.zeros((h*2,w*2,3), dtype = np.uint8)\n",
    "tl = collage[0:h,0:w]\n",
    "tr = collage[0:h,w:w+w]\n",
    "bl = collage[h:h+h,0:w]\n",
    "br = collage[h:h+h,w:w+w]\n",
    "\n",
    "while True:      \n",
    "    # fotograma a fotograma\n",
    "    ret, frame = vid.read()\n",
    "\n",
    "    if ret:\n",
    "        frame = cv2.resize(frame, (w, h))\n",
    "        #Separamos canales\n",
    "        r = frame[:,:,2]\n",
    "        g = frame[:,:,1]\n",
    "        b = frame[:,:,0]\n",
    "\n",
    "        #Jugamos\n",
    "        tl[:,:,0] = b\n",
    "        tl[:,:,1] = g\n",
    "        tl[:,:,2] = r\n",
    "\n",
    "        tr[:,:,0] = 255 - r\n",
    "        tr[:,:,1] = g\n",
    "        tr[:,:,2] = b\n",
    "        \n",
    "        bl[:,:,0] = r\n",
    "        bl[:,:,1] = 255 - b\n",
    "        bl[:,:,2] = g\n",
    "\n",
    "        br[:,:,0] = b\n",
    "        br[:,:,1] = g\n",
    "        br[:,:,2] = 255 - r\n",
    "    \n",
    "        # Muestra composicion\n",
    "        cv2.imshow('Cam', collage)\n",
    "    \n",
    "    # Detenemos pulsado ESC\n",
    "    if cv2.waitKey(20) == 27:\n",
    "        break\n",
    "  \n",
    "# Libera el objeto de captura\n",
    "vid.release()\n",
    "# Destruye ventanas\n",
    "cv2.destroyAllWindows()"
   ]
  },
  {
   "cell_type": "markdown",
   "metadata": {},
   "source": [
    "Transformando la imagen capturada en una colección de círculos, cuyo radio depende de la intensidad promedio de la zona"
   ]
  },
  {
   "cell_type": "code",
   "execution_count": 7,
   "metadata": {},
   "outputs": [
    {
     "name": "stderr",
     "output_type": "stream",
     "text": [
      "C:\\Users\\Admin\\AppData\\Local\\Temp\\ipykernel_8928\\4226927672.py:29: RuntimeWarning: overflow encountered in scalar add\n",
      "  rad = int ( (r[y,x] + g[y,x] + b[y,x])/(ncells*3*2))\n"
     ]
    }
   ],
   "source": [
    "vid = cv2.VideoCapture(0)\n",
    "\n",
    "ncells = 10\n",
    "off = int(ncells/2)\n",
    "  \n",
    "while(True):      \n",
    "    # fotograma a fotograma\n",
    "    ret, frame = vid.read()\n",
    "\n",
    "    if ret:\n",
    "        #Dimensiones originales\n",
    "        h, w, c = frame.shape\n",
    "        #Redimensiono\n",
    "        down_frame = cv2.resize(frame, (int(w/ncells),int(h/ncells)),cv2.INTER_NEAREST)\n",
    "        #Dimensiones reducidas\n",
    "        h2, w2, c2 = down_frame.shape\n",
    "\n",
    "        #Separamos canales\n",
    "        r = down_frame[:,:,0]\n",
    "        g = down_frame[:,:,1]\n",
    "        b = down_frame[:,:,2]\n",
    "\n",
    "        # Creamos imagen negra\n",
    "        gris_up_frame = np.zeros((h2*ncells,w2*ncells,1), dtype = np.uint8)\n",
    "\n",
    "        for y in range(0,h2):\n",
    "            for x in range(0,w2):\n",
    "                # La suma de los valores RGB define el radio del círculo\n",
    "                rad = int ( (r[y,x] + g[y,x] + b[y,x])/(ncells*3*2))\n",
    "                cv2.circle(gris_up_frame,(x*ncells+off, y*ncells + off), rad, (255,255,255), -1)\n",
    "\n",
    "    \n",
    "        # Muestra fotograma resultante\n",
    "        cv2.imshow('Cam', gris_up_frame)\n",
    "    \n",
    "    # Detenemos pulsado ESC\n",
    "    if cv2.waitKey(20) == 27:\n",
    "        break\n",
    "  \n",
    "# Libera el objeto de captura\n",
    "vid.release()\n",
    "# Destruye ventanas\n",
    "cv2.destroyAllWindows()"
   ]
  },
  {
   "cell_type": "markdown",
   "metadata": {},
   "source": [
    "TAREA: Haz tu propuesta pop art"
   ]
  }
 ],
 "metadata": {
  "kernelspec": {
   "display_name": "Python 3.7.3 ('FACES')",
   "language": "python",
   "name": "python3"
  },
  "language_info": {
   "codemirror_mode": {
    "name": "ipython",
    "version": 3
   },
   "file_extension": ".py",
   "mimetype": "text/x-python",
   "name": "python",
   "nbconvert_exporter": "python",
   "pygments_lexer": "ipython3",
   "version": "3.11.5"
  },
  "orig_nbformat": 4,
  "vscode": {
   "interpreter": {
    "hash": "ea3a1ee99ce326e593ddb52cd278556d527fcb6552c40e2a47b1efb9d0183637"
   }
  }
 },
 "nbformat": 4,
 "nbformat_minor": 2
}
