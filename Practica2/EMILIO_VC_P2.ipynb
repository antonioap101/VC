{
 "cells": [
  {
   "cell_type": "code",
   "execution_count": 1,
   "metadata": {},
   "outputs": [],
   "source": [
    "import cv2  \n",
    "import numpy as np\n",
    "import matplotlib.pyplot as plt"
   ]
  },
  {
   "cell_type": "markdown",
   "metadata": {},
   "source": [
    "TAREA: Asumiendo que quieren mostrar a personas que no forman parte del curso de VC el comportamiento de una o varias funcioens de las vistas hasta este momento aplicadas sobre la entrada de la webcam. ¿Cuál(es) escogerían?"
   ]
  },
  {
   "cell_type": "markdown",
   "metadata": {},
   "source": [
    "Propuesta 1: Detección del rgb de la imagen, es la base para comprender como se compone una imagen y sus rangos de valores."
   ]
  },
  {
   "cell_type": "code",
   "execution_count": 5,
   "metadata": {},
   "outputs": [],
   "source": [
    "# Función que trata eventos de ratón \n",
    "def mouse_events(event, x, y, flags, params):\n",
    "    global px, py, R, G, B\n",
    "    px = -1\n",
    "    # Movimiento del puntero     \n",
    "    if event==cv2.EVENT_MOUSEMOVE:\n",
    "        #Valores del píxel\n",
    "        B = frame[y, x, 0]\n",
    "        G = frame[y, x, 1]\n",
    "        R = frame[y, x, 2]  \n",
    "\n",
    "        px = x\n",
    "        py = y"
   ]
  },
  {
   "cell_type": "code",
   "execution_count": null,
   "metadata": {},
   "outputs": [],
   "source": [
    "vid = cv2.VideoCapture(0)\n",
    "\n",
    "# Tipografía para mostrar texto\n",
    "font = cv2.FONT_HERSHEY_SIMPLEX\n",
    "  \n",
    "lanzado = 0\n",
    "px = -1\n",
    "while(True):      \n",
    "    # fotograma a fotograma\n",
    "    ret, frame = vid.read()\n",
    "\n",
    "    if ret: \n",
    "        # Activa em manejador en el primer fotograma\n",
    "        if lanzado == 0:\n",
    "            # Muestra fotograma\n",
    "            cv2.imshow('Cam', frame)   \n",
    "            # Define el nombre del manejador del evento\n",
    "            cv2.setMouseCallback('Cam', mouse_events)\n",
    "            lanzado = 1\n",
    "            \n",
    "        # Muestra valores RGB intentando centrar en el puntero\n",
    "        if px > -1:\n",
    "            cv2.putText(frame, '{}'.format(R), (px-45,py-5), font, 0.5, (0, 0, 255), 1)\n",
    "            cv2.putText(frame, '     {}'.format(G), (px-54,py-5), font, 0.5, (0, 255, 0), 1)\n",
    "            cv2.putText(frame, '         {}'.format(B), (px-54,py-5), font, 0.5, (255, 0, 0), 1)\n",
    "            \n",
    "        cv2.imshow('Cam', frame)   \n",
    "        \n",
    "    # Detenemos pulsado ESC\n",
    "    if cv2.waitKey(20) == 27:\n",
    "        break\n",
    "  \n",
    "# Libera el objeto de captura\n",
    "vid.release()\n",
    "# Destruye ventanas\n",
    "cv2.destroyAllWindows()"
   ]
  },
  {
   "cell_type": "markdown",
   "metadata": {},
   "source": [
    "Propuesta 2: Pop art de Andy Warhol. A partir de la propuesta 1 donde les enseñamos los 3 canales de colores RGB y como lo detectamos, en esta propuesta cogemos dichos canales y le aplicamos la inversa por cada canal por seperado para que se generen nuevos filtros y queden efectos diferentes y divertidos visualmente."
   ]
  },
  {
   "cell_type": "code",
   "execution_count": null,
   "metadata": {},
   "outputs": [],
   "source": [
    "vid = cv2.VideoCapture(0)\n",
    "\n",
    "#Dimensiones de la cámara\n",
    "w = int(vid.get(cv2.CAP_PROP_FRAME_WIDTH))\n",
    "h = int(vid.get(cv2.CAP_PROP_FRAME_HEIGHT))\n",
    "\n",
    "#Fuerzo a mitad de resolución para ocupar menos pantalla\n",
    "w=int(w/2)\n",
    "h=int(h/2)\n",
    "vid.set(cv2.CAP_PROP_FRAME_WIDTH, w) #En Mac no reacciona a estos comandos\n",
    "vid.set(cv2.CAP_PROP_FRAME_HEIGHT, h)\n",
    "\n",
    "#Imagen conjunta 2x original\n",
    "collage = np.zeros((h*2,w*2,3), dtype = np.uint8)\n",
    "tl = collage[0:h,0:w]\n",
    "tr = collage[0:h,w:w+w]\n",
    "bl = collage[h:h+h,0:w]\n",
    "br = collage[h:h+h,w:w+w]\n",
    "\n",
    "while True:      \n",
    "    # fotograma a fotograma\n",
    "    ret, frameIN = vid.read()\n",
    "\n",
    "    #Menor tamaño\n",
    "    frame = cv2.resize(frameIN, (int(w),int(h)),cv2.INTER_NEAREST)\n",
    "\n",
    "    if ret:\n",
    "        #Separamos canales\n",
    "        r = frame[:,:,2]\n",
    "        g = frame[:,:,1]\n",
    "        b = frame[:,:,0]\n",
    "\n",
    "        #Jugamos\n",
    "        tl[:,:,0] = b\n",
    "        tl[:,:,1] = g\n",
    "        tl[:,:,2] = r\n",
    "\n",
    "        tr[:,:,0] = 255 - r\n",
    "        tr[:,:,1] = g\n",
    "        tr[:,:,2] = b\n",
    "        \n",
    "        bl[:,:,0] = r\n",
    "        bl[:,:,1] = 255 - b\n",
    "        bl[:,:,2] = g\n",
    "\n",
    "        br[:,:,0] = b\n",
    "        br[:,:,1] = g\n",
    "        br[:,:,2] = 255 - r\n",
    "    \n",
    "        # Muestra composicion\n",
    "        cv2.imshow('Cam', collage)\n",
    "    \n",
    "    # Detenemos pulsado ESC\n",
    "    if cv2.waitKey(20) == 27:\n",
    "        break\n",
    "  \n",
    "# Libera el objeto de captura\n",
    "vid.release()\n",
    "# Destruye ventanas\n",
    "cv2.destroyAllWindows()"
   ]
  },
  {
   "cell_type": "markdown",
   "metadata": {},
   "source": [
    "Propuesta 3: Para terminar la demostración y ya habiendo demostrado las bases de una imagen y como modificarla a nuestro antojo, no modificaremos su rango de color sino su forma que en este ejemplo la imagen que se generará en el video estará conformada por un conjunto de círculos."
   ]
  },
  {
   "cell_type": "code",
   "execution_count": null,
   "metadata": {},
   "outputs": [],
   "source": [
    "vid = cv2.VideoCapture(0)\n",
    "\n",
    "ncells = 8\n",
    "off = int(ncells/2)\n",
    "  \n",
    "while(True):      \n",
    "    # fotograma a fotograma\n",
    "    ret, frame = vid.read()\n",
    "\n",
    "    if ret:\n",
    "        #Dimensiones originales\n",
    "        h, w, c = frame.shape\n",
    "        #Redimensiono\n",
    "        down_frame = cv2.resize(frame, (int(w/ncells),int(h/ncells)),cv2.INTER_NEAREST)\n",
    "        #Dimensiones reducidas\n",
    "        h2, w2, c2 = down_frame.shape\n",
    "\n",
    "        #Separamos canales\n",
    "        r = down_frame[:,:,0]\n",
    "        g = down_frame[:,:,1]\n",
    "        b = down_frame[:,:,2]\n",
    "\n",
    "        # Creamos imagen negra\n",
    "        gris_up_frame = np.zeros((h2*ncells,w2*ncells,1), dtype = np.uint8)\n",
    "\n",
    "        for y in range(0,h2):\n",
    "            for x in range(0,w2):\n",
    "                # La suma de los valores RGB define el radio del círculo\n",
    "                rad = int ( (r[y,x] + g[y,x] + b[y,x])/(ncells*3*2))\n",
    "                cv2.circle(gris_up_frame,(x*ncells+off, y*ncells + off), rad, (255,255,255), -1)\n",
    "\n",
    "    \n",
    "        # Muestra fotograma resultante\n",
    "        cv2.imshow('Cam', gris_up_frame)\n",
    "    \n",
    "    # Detenemos pulsado ESC\n",
    "    if cv2.waitKey(20) == 27:\n",
    "        break\n",
    "  \n",
    "# Libera el objeto de captura\n",
    "vid.release()\n",
    "# Destruye ventanas\n",
    "cv2.destroyAllWindows()"
   ]
  },
  {
   "cell_type": "markdown",
   "metadata": {},
   "source": [
    "TAREA: Tras ver los vídeos My little piece of privacy, Messa di voce y Virtual air guitar propongan (los componentes de cada grupo) una reinterpretación del procesamiento de imágenes con las técnicas vistas o que conozcan."
   ]
  }
 ],
 "metadata": {
  "kernelspec": {
   "display_name": "Python 3",
   "language": "python",
   "name": "python3"
  },
  "language_info": {
   "codemirror_mode": {
    "name": "ipython",
    "version": 3
   },
   "file_extension": ".py",
   "mimetype": "text/x-python",
   "name": "python",
   "nbconvert_exporter": "python",
   "pygments_lexer": "ipython3",
   "version": "3.11.5"
  },
  "orig_nbformat": 4
 },
 "nbformat": 4,
 "nbformat_minor": 2
}
